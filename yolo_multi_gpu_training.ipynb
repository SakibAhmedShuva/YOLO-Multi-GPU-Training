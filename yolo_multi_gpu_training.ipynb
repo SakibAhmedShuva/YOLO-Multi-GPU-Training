{
 "cells": [
  {
   "cell_type": "code",
   "execution_count": null,
   "id": "d67d17fe",
   "metadata": {
    "execution": {
     "iopub.execute_input": "2025-04-13T10:54:30.224382Z",
     "iopub.status.busy": "2025-04-13T10:54:30.224176Z",
     "iopub.status.idle": "2025-04-13T10:54:30.227775Z",
     "shell.execute_reply": "2025-04-13T10:54:30.227164Z"
    },
    "id": "bb964b0b",
    "outputId": "217dfe00-e439-409e-bb0a-c060a520dcbd",
    "papermill": {
     "duration": 0.009652,
     "end_time": "2025-04-13T10:54:30.228906",
     "exception": false,
     "start_time": "2025-04-13T10:54:30.219254",
     "status": "completed"
    },
    "tags": []
   },
   "outputs": [],
   "source": [
    "# from google.colab import drive\n",
    "\n",
    "# # Mount Google Drive\n",
    "# drive.mount('/content/drive')\n",
    "\n",
    "# # # Create folder\n",
    "# # !mkdir DS\n",
    "\n",
    "# # # Go to YOLOv8 root folder\n",
    "# # %cd /content/drive/MyDrive/Yolo"
   ]
  },
  {
   "cell_type": "markdown",
   "id": "3b388169",
   "metadata": {
    "papermill": {
     "duration": 0.003279,
     "end_time": "2025-04-13T10:54:30.235918",
     "exception": false,
     "start_time": "2025-04-13T10:54:30.232639",
     "status": "completed"
    },
    "tags": []
   },
   "source": [
    "# Downloading Models"
   ]
  },
  {
   "cell_type": "code",
   "execution_count": null,
   "id": "bd8a54ae",
   "metadata": {
    "execution": {
     "iopub.execute_input": "2025-04-13T10:54:30.243344Z",
     "iopub.status.busy": "2025-04-13T10:54:30.243157Z",
     "iopub.status.idle": "2025-04-13T10:55:22.297950Z",
     "shell.execute_reply": "2025-04-13T10:55:22.297207Z"
    },
    "id": "0-2O2p-y6SgV",
    "outputId": "f53d8dca-6548-4db3-e521-9820051d78f2",
    "papermill": {
     "duration": 52.060087,
     "end_time": "2025-04-13T10:55:22.299415",
     "exception": false,
     "start_time": "2025-04-13T10:54:30.239328",
     "status": "completed"
    },
    "tags": []
   },
   "outputs": [],
   "source": [
    "# #Models\n",
    "!gdown --folder defwrgthyjgevbftrjytn"
   ]
  },
  {
   "cell_type": "markdown",
   "id": "61cb6558",
   "metadata": {
    "papermill": {
     "duration": 0.005528,
     "end_time": "2025-04-13T10:55:22.311121",
     "exception": false,
     "start_time": "2025-04-13T10:55:22.305593",
     "status": "completed"
    },
    "tags": []
   },
   "source": [
    "# Downloading Data"
   ]
  },
  {
   "cell_type": "code",
   "execution_count": null,
   "id": "b9cbe9b0",
   "metadata": {
    "execution": {
     "iopub.execute_input": "2025-04-13T10:55:22.323312Z",
     "iopub.status.busy": "2025-04-13T10:55:22.323096Z",
     "iopub.status.idle": "2025-04-13T10:55:22.326704Z",
     "shell.execute_reply": "2025-04-13T10:55:22.326009Z"
    },
    "papermill": {
     "duration": 0.011077,
     "end_time": "2025-04-13T10:55:22.327723",
     "exception": false,
     "start_time": "2025-04-13T10:55:22.316646",
     "status": "completed"
    },
    "tags": []
   },
   "outputs": [],
   "source": [
    "# !pip install roboflow\n",
    "\n",
    "# from roboflow import Roboflow\n",
    "# rf = Roboflow(api_key=\"2345674532134\")\n",
    "# project = rf.workspace(\"school-it\").project(\"it-child-school\")\n",
    "# version = project.version(1)\n",
    "# dataset = version.download(\"yolov11\")"
   ]
  },
  {
   "cell_type": "code",
   "execution_count": null,
   "id": "212452a5",
   "metadata": {
    "execution": {
     "iopub.execute_input": "2025-04-13T10:55:22.339424Z",
     "iopub.status.busy": "2025-04-13T10:55:22.339225Z",
     "iopub.status.idle": "2025-04-13T10:55:22.342588Z",
     "shell.execute_reply": "2025-04-13T10:55:22.341941Z"
    },
    "id": "_mfo-_MqlAf9",
    "outputId": "ff9e47ab-c2e6-4839-ade9-76c7db1ca1a8",
    "papermill": {
     "duration": 0.010386,
     "end_time": "2025-04-13T10:55:22.343586",
     "exception": false,
     "start_time": "2025-04-13T10:55:22.333200",
     "status": "completed"
    },
    "tags": []
   },
   "outputs": [],
   "source": [
    "# import shutil\n",
    "# import os\n",
    "\n",
    "# source_folder = \"/kaggle/input/data\"\n",
    "# destination_folder = \"./\"\n",
    "\n",
    "# # Create destination folder and any parent directories if they don't exist\n",
    "# os.makedirs(destination_folder, exist_ok=True)\n",
    "\n",
    "# # Get all files and directories in the source folder\n",
    "# for item in os.listdir(source_folder):\n",
    "#     source_item = os.path.join(source_folder, item)\n",
    "#     destination_item = os.path.join(destination_folder, item)\n",
    "\n",
    "#     # If it's a directory, copy the directory\n",
    "#     if os.path.isdir(source_item):\n",
    "#         # Check if destination directory exists\n",
    "#         if os.path.exists(destination_item):\n",
    "#             shutil.rmtree(destination_item)  # Remove existing directory\n",
    "#         shutil.copytree(source_item, destination_item)\n",
    "#     # If it's a file, copy the file\n",
    "#     else:\n",
    "#         shutil.copy2(source_item, destination_item)\n",
    "\n",
    "# print(f\"All items copied from {source_folder} to {destination_folder}\")"
   ]
  },
  {
   "cell_type": "code",
   "execution_count": null,
   "id": "03b51667",
   "metadata": {
    "execution": {
     "iopub.execute_input": "2025-04-13T10:55:22.355180Z",
     "iopub.status.busy": "2025-04-13T10:55:22.355002Z",
     "iopub.status.idle": "2025-04-13T10:55:52.598952Z",
     "shell.execute_reply": "2025-04-13T10:55:52.597852Z"
    },
    "id": "pnzIOH1zwCpR",
    "outputId": "32d4f6d8-96ac-4a66-9ef2-ecc6ff3c4cb8",
    "papermill": {
     "duration": 30.251503,
     "end_time": "2025-04-13T10:55:52.600535",
     "exception": false,
     "start_time": "2025-04-13T10:55:22.349032",
     "status": "completed"
    },
    "tags": []
   },
   "outputs": [],
   "source": [
    "# augmented_data\n",
    "!gdown 34t5yhjngfdasfvbfdnghnfbdvsca"
   ]
  },
  {
   "cell_type": "code",
   "execution_count": null,
   "id": "2879b095",
   "metadata": {
    "execution": {
     "iopub.execute_input": "2025-04-13T10:55:52.636887Z",
     "iopub.status.busy": "2025-04-13T10:55:52.636629Z",
     "iopub.status.idle": "2025-04-13T10:56:00.049840Z",
     "shell.execute_reply": "2025-04-13T10:56:00.049074Z"
    },
    "id": "ePMVpvcHV4Ln",
    "outputId": "9e224420-8a1b-49b1-fe96-680a29d50738",
    "papermill": {
     "duration": 7.431322,
     "end_time": "2025-04-13T10:56:00.050966",
     "exception": false,
     "start_time": "2025-04-13T10:55:52.619644",
     "status": "completed"
    },
    "tags": []
   },
   "outputs": [],
   "source": [
    "import zipfile\n",
    "from tqdm import tqdm\n",
    "\n",
    "def extract_with_progress(zip_path, extract_path):\n",
    "    with zipfile.ZipFile(zip_path, 'r') as zip_ref:\n",
    "        # Get list of files\n",
    "        file_list = zip_ref.namelist()\n",
    "        # Show progress bar\n",
    "        for file in tqdm(file_list):\n",
    "            zip_ref.extract(file, extract_path)\n",
    "\n",
    "# Use the function\n",
    "extract_with_progress('./data5.zip', './')"
   ]
  },
  {
   "cell_type": "code",
   "execution_count": 7,
   "id": "fb4fc08d",
   "metadata": {
    "execution": {
     "iopub.execute_input": "2025-04-13T10:56:00.079261Z",
     "iopub.status.busy": "2025-04-13T10:56:00.079060Z",
     "iopub.status.idle": "2025-04-13T10:56:00.082312Z",
     "shell.execute_reply": "2025-04-13T10:56:00.081607Z"
    },
    "id": "67aca868",
    "papermill": {
     "duration": 0.017987,
     "end_time": "2025-04-13T10:56:00.083357",
     "exception": false,
     "start_time": "2025-04-13T10:56:00.065370",
     "status": "completed"
    },
    "tags": []
   },
   "outputs": [],
   "source": [
    "# import torch\n",
    "\n",
    "# print(f\"CUDA available: {torch.cuda.is_available()}\")\n",
    "# print(f\"Number of GPUs: {torch.cuda.device_count()}\")\n",
    "# if torch.cuda.is_available():\n",
    "#     print(f\"Current GPU: {torch.cuda.current_device()}\")\n",
    "#     print(f\"GPU name: {torch.cuda.get_device_name(0)}\")"
   ]
  },
  {
   "cell_type": "code",
   "execution_count": null,
   "id": "6cf5b9c1",
   "metadata": {
    "execution": {
     "iopub.execute_input": "2025-04-13T10:56:00.109577Z",
     "iopub.status.busy": "2025-04-13T10:56:00.109353Z",
     "iopub.status.idle": "2025-04-13T10:57:22.916769Z",
     "shell.execute_reply": "2025-04-13T10:57:22.915807Z"
    },
    "id": "ca2388b2",
    "outputId": "17311500-95a7-4747-f77b-34142f64ffb3",
    "papermill": {
     "duration": 82.821951,
     "end_time": "2025-04-13T10:57:22.918148",
     "exception": false,
     "start_time": "2025-04-13T10:56:00.096197",
     "status": "completed"
    },
    "tags": []
   },
   "outputs": [],
   "source": [
    "!pip install -U ultralytics\n",
    "# !pip install -U roboflow\n",
    "!pip install -U ipywidgets"
   ]
  },
  {
   "cell_type": "code",
   "execution_count": 9,
   "id": "241d5685",
   "metadata": {
    "execution": {
     "iopub.execute_input": "2025-04-13T10:57:23.034329Z",
     "iopub.status.busy": "2025-04-13T10:57:23.033835Z",
     "iopub.status.idle": "2025-04-13T10:57:28.747985Z",
     "shell.execute_reply": "2025-04-13T10:57:28.747228Z"
    },
    "id": "1CHkzXRG_A7h",
    "outputId": "0a6a1592-e49d-48f6-a309-615da5a62a0c",
    "papermill": {
     "duration": 5.795197,
     "end_time": "2025-04-13T10:57:28.749311",
     "exception": false,
     "start_time": "2025-04-13T10:57:22.954114",
     "status": "completed"
    },
    "tags": []
   },
   "outputs": [
    {
     "name": "stdout",
     "output_type": "stream",
     "text": [
      "Creating new Ultralytics Settings v0.0.6 file ✅ \n",
      "View Ultralytics Settings with 'yolo settings' or at '/root/.config/Ultralytics/settings.json'\n",
      "Update Settings with 'yolo settings key=value', i.e. 'yolo settings runs_dir=path/to/dir'. For help see https://docs.ultralytics.com/quickstart/#ultralytics-settings.\n"
     ]
    }
   ],
   "source": [
    "from ultralytics import YOLO"
   ]
  },
  {
   "cell_type": "code",
   "execution_count": 10,
   "id": "c4d3266d",
   "metadata": {
    "execution": {
     "iopub.execute_input": "2025-04-13T10:57:28.820740Z",
     "iopub.status.busy": "2025-04-13T10:57:28.820396Z",
     "iopub.status.idle": "2025-04-13T10:57:28.824036Z",
     "shell.execute_reply": "2025-04-13T10:57:28.823365Z"
    },
    "id": "a61f4415",
    "papermill": {
     "duration": 0.040408,
     "end_time": "2025-04-13T10:57:28.825116",
     "exception": false,
     "start_time": "2025-04-13T10:57:28.784708",
     "status": "completed"
    },
    "tags": []
   },
   "outputs": [],
   "source": [
    "import os\n",
    "os.environ['WANDB_MODE'] = 'disabled'"
   ]
  },
  {
   "cell_type": "code",
   "execution_count": null,
   "id": "fe367531",
   "metadata": {
    "execution": {
     "iopub.execute_input": "2025-04-13T10:57:28.894332Z",
     "iopub.status.busy": "2025-04-13T10:57:28.893818Z",
     "iopub.status.idle": "2025-04-13T10:57:28.896521Z",
     "shell.execute_reply": "2025-04-13T10:57:28.896041Z"
    },
    "id": "4de1109a",
    "papermill": {
     "duration": 0.038445,
     "end_time": "2025-04-13T10:57:28.897417",
     "exception": false,
     "start_time": "2025-04-13T10:57:28.858972",
     "status": "completed"
    },
    "tags": []
   },
   "outputs": [],
   "source": [
    "# # Load a model\n",
    "# model = YOLO(\"/kaggle/working/best.pt\")"
   ]
  },
  {
   "cell_type": "code",
   "execution_count": 12,
   "id": "a32be694",
   "metadata": {
    "execution": {
     "iopub.execute_input": "2025-04-13T10:57:28.968129Z",
     "iopub.status.busy": "2025-04-13T10:57:28.967928Z",
     "iopub.status.idle": "2025-04-13T10:57:28.970843Z",
     "shell.execute_reply": "2025-04-13T10:57:28.970339Z"
    },
    "id": "665a17fb",
    "papermill": {
     "duration": 0.039996,
     "end_time": "2025-04-13T10:57:28.971821",
     "exception": false,
     "start_time": "2025-04-13T10:57:28.931825",
     "status": "completed"
    },
    "tags": []
   },
   "outputs": [],
   "source": [
    "# yolo predict model=yolo11n.pt source='https://ultralytics.com/images/bus.jpg'"
   ]
  },
  {
   "cell_type": "code",
   "execution_count": 13,
   "id": "37985f26",
   "metadata": {
    "execution": {
     "iopub.execute_input": "2025-04-13T10:57:29.042245Z",
     "iopub.status.busy": "2025-04-13T10:57:29.041862Z",
     "iopub.status.idle": "2025-04-13T10:57:29.044708Z",
     "shell.execute_reply": "2025-04-13T10:57:29.044183Z"
    },
    "id": "61898181",
    "outputId": "fc937251-cc71-4d17-ba58-662387aa43bb",
    "papermill": {
     "duration": 0.039234,
     "end_time": "2025-04-13T10:57:29.045661",
     "exception": false,
     "start_time": "2025-04-13T10:57:29.006427",
     "status": "completed"
    },
    "tags": []
   },
   "outputs": [],
   "source": [
    "# # Go to YOLOv8 root folder\n",
    "# %cd \"/content/drive/MyDrive/DS/Augmented-train\""
   ]
  },
  {
   "cell_type": "code",
   "execution_count": 14,
   "id": "f974ff32",
   "metadata": {
    "execution": {
     "iopub.execute_input": "2025-04-13T10:57:29.117031Z",
     "iopub.status.busy": "2025-04-13T10:57:29.116586Z",
     "iopub.status.idle": "2025-04-13T10:57:29.119457Z",
     "shell.execute_reply": "2025-04-13T10:57:29.118930Z"
    },
    "papermill": {
     "duration": 0.040588,
     "end_time": "2025-04-13T10:57:29.120530",
     "exception": false,
     "start_time": "2025-04-13T10:57:29.079942",
     "status": "completed"
    },
    "tags": []
   },
   "outputs": [],
   "source": [
    "# !nvcc --version\n",
    "# !nvidia-smi"
   ]
  },
  {
   "cell_type": "code",
   "execution_count": 15,
   "id": "b4f9b681",
   "metadata": {
    "execution": {
     "iopub.execute_input": "2025-04-13T10:57:29.193135Z",
     "iopub.status.busy": "2025-04-13T10:57:29.192764Z",
     "iopub.status.idle": "2025-04-13T10:57:29.195716Z",
     "shell.execute_reply": "2025-04-13T10:57:29.195060Z"
    },
    "papermill": {
     "duration": 0.039168,
     "end_time": "2025-04-13T10:57:29.196725",
     "exception": false,
     "start_time": "2025-04-13T10:57:29.157557",
     "status": "completed"
    },
    "tags": []
   },
   "outputs": [],
   "source": [
    "# import torch\n",
    "# torch.cuda.is_available()"
   ]
  },
  {
   "cell_type": "code",
   "execution_count": 16,
   "id": "0e243d47",
   "metadata": {
    "execution": {
     "iopub.execute_input": "2025-04-13T10:57:29.266147Z",
     "iopub.status.busy": "2025-04-13T10:57:29.265640Z",
     "iopub.status.idle": "2025-04-13T10:57:29.268889Z",
     "shell.execute_reply": "2025-04-13T10:57:29.268226Z"
    },
    "papermill": {
     "duration": 0.038983,
     "end_time": "2025-04-13T10:57:29.269887",
     "exception": false,
     "start_time": "2025-04-13T10:57:29.230904",
     "status": "completed"
    },
    "tags": []
   },
   "outputs": [],
   "source": [
    "# !pip3 install torch==2.4.1 torchvision==0.15.1 torchaudio==2.4.1 --index-url https://download.pytorch.org/whl/cu121\n"
   ]
  },
  {
   "cell_type": "code",
   "execution_count": 17,
   "id": "70136cab",
   "metadata": {
    "execution": {
     "iopub.execute_input": "2025-04-13T10:57:29.341198Z",
     "iopub.status.busy": "2025-04-13T10:57:29.340701Z",
     "iopub.status.idle": "2025-04-13T10:57:29.343885Z",
     "shell.execute_reply": "2025-04-13T10:57:29.343233Z"
    },
    "papermill": {
     "duration": 0.040202,
     "end_time": "2025-04-13T10:57:29.344918",
     "exception": false,
     "start_time": "2025-04-13T10:57:29.304716",
     "status": "completed"
    },
    "tags": []
   },
   "outputs": [],
   "source": [
    "# !pip install torch==2.4.1+cu121 --index-url https://download.pytorch.org/whl/cu121\n"
   ]
  },
  {
   "cell_type": "code",
   "execution_count": null,
   "id": "f10ab571",
   "metadata": {
    "execution": {
     "iopub.execute_input": "2025-04-13T10:57:29.414661Z",
     "iopub.status.busy": "2025-04-13T10:57:29.414132Z",
     "iopub.status.idle": "2025-04-13T10:59:17.636589Z",
     "shell.execute_reply": "2025-04-13T10:59:17.635443Z"
    },
    "papermill": {
     "duration": 108.25858,
     "end_time": "2025-04-13T10:59:17.638192",
     "exception": false,
     "start_time": "2025-04-13T10:57:29.379612",
     "status": "completed"
    },
    "tags": []
   },
   "outputs": [],
   "source": [
    "!pip install torchvision==0.19"
   ]
  },
  {
   "cell_type": "code",
   "execution_count": 19,
   "id": "c59b8424",
   "metadata": {
    "execution": {
     "iopub.execute_input": "2025-04-13T10:59:17.768956Z",
     "iopub.status.busy": "2025-04-13T10:59:17.768661Z",
     "iopub.status.idle": "2025-04-13T10:59:17.858035Z",
     "shell.execute_reply": "2025-04-13T10:59:17.857417Z"
    },
    "papermill": {
     "duration": 0.155599,
     "end_time": "2025-04-13T10:59:17.859175",
     "exception": false,
     "start_time": "2025-04-13T10:59:17.703576",
     "status": "completed"
    },
    "tags": []
   },
   "outputs": [
    {
     "data": {
      "text/plain": [
       "True"
      ]
     },
     "execution_count": 19,
     "metadata": {},
     "output_type": "execute_result"
    }
   ],
   "source": [
    "import torch\n",
    "torch.cuda.is_available()"
   ]
  },
  {
   "cell_type": "code",
   "execution_count": null,
   "id": "2c0aa4c2",
   "metadata": {
    "execution": {
     "iopub.execute_input": "2025-04-13T10:59:18.114980Z",
     "iopub.status.busy": "2025-04-13T10:59:18.114769Z"
    },
    "id": "sZkxJQOrAl1M",
    "papermill": {
     "duration": null,
     "end_time": null,
     "exception": false,
     "start_time": "2025-04-13T10:59:18.052594",
     "status": "running"
    },
    "tags": []
   },
   "outputs": [],
   "source": [
    "!yolo segment train data=\"/kaggle/working/data/data.yaml\" model=\"/kaggle/working/runs/segment/train/weights/last.pt\" epochs=1000 device=0,1 batch=22 workers=22 seed=101 patience=300 resume=True"
   ]
  },
  {
   "cell_type": "markdown",
   "id": "9dd20133",
   "metadata": {
    "papermill": {
     "duration": null,
     "end_time": null,
     "exception": null,
     "start_time": null,
     "status": "pending"
    },
    "tags": []
   },
   "source": [
    "# CPU"
   ]
  },
  {
   "cell_type": "code",
   "execution_count": null,
   "id": "81cc97d0",
   "metadata": {
    "papermill": {
     "duration": null,
     "end_time": null,
     "exception": null,
     "start_time": null,
     "status": "pending"
    },
    "tags": []
   },
   "outputs": [],
   "source": [
    "# !yolo segment train data=\"/kaggle/working/data/data.yaml\" model=\"/kaggle/working/runs/segment/train/weights/last.pt\" epochs=1000 device='cpu' batch=22 workers=22 seed=101 patience=300 resume=True"
   ]
  },
  {
   "cell_type": "code",
   "execution_count": null,
   "id": "169cbe76",
   "metadata": {
    "papermill": {
     "duration": null,
     "end_time": null,
     "exception": null,
     "start_time": null,
     "status": "pending"
    },
    "tags": []
   },
   "outputs": [],
   "source": []
  }
 ],
 "metadata": {
  "accelerator": "GPU",
  "colab": {
   "gpuType": "T4",
   "provenance": []
  },
  "kaggle": {
   "accelerator": "nvidiaTeslaT4",
   "dataSources": [],
   "dockerImageVersionId": 31011,
   "isGpuEnabled": true,
   "isInternetEnabled": true,
   "language": "python",
   "sourceType": "notebook"
  },
  "kernelspec": {
   "display_name": "Python 3",
   "language": "python",
   "name": "python3"
  },
  "language_info": {
   "codemirror_mode": {
    "name": "ipython",
    "version": 3
   },
   "file_extension": ".py",
   "mimetype": "text/x-python",
   "name": "python",
   "nbconvert_exporter": "python",
   "pygments_lexer": "ipython3",
   "version": "3.11.11"
  },
  "papermill": {
   "default_parameters": {},
   "duration": null,
   "end_time": null,
   "environment_variables": {},
   "exception": null,
   "input_path": "__notebook__.ipynb",
   "output_path": "__notebook__.ipynb",
   "parameters": {},
   "start_time": "2025-04-13T10:54:26.152762",
   "version": "2.6.0"
  }
 },
 "nbformat": 4,
 "nbformat_minor": 5
}
